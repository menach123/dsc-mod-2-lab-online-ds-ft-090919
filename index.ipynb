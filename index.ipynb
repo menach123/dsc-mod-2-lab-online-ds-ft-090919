{
 "cells": [
  {
   "cell_type": "markdown",
   "metadata": {},
   "source": [
    "# Module 2 Summative Lab\n",
    "\n",
    "## Introduction\n",
    "\n",
    "For today's section, we're going to work on a single big lab to apply everything we've learned in Module 2!\n",
    "\n",
    "## About This Lab\n",
    "\n",
    "A quick note before getting started--this lab isn't like other labs you seen so far. This lab is meant to take ~8 hours to complete, so it's much longer and more challenging than the average labs you've seen so far. If you feel like this lab is challenging or that you might be struggling a bit, don't fret--that's by design! With everything we've learned about Web Scraping, APIs, and Databases, the best way to test our knowledge of it is to build something substantial! \n",
    "\n",
    "## The Project\n",
    "\n",
    "In this lab, we're going to make use of everything we've learned about APIs, databases, and Object-Oriented Programming to **_Extract, Transform, and Load_** (or **_ETL_**, for short) some data from a SQL database into a MongoDB Database. \n",
    "\n",
    "You'll find a database containing information about soccer teams and the matches they've played in the file `database.sqlite`. For this project, our goal is to get the data we think is important from this SQL database, do some calculations and data transformation, and then store everything in a MongoDB database. \n",
    "\n",
    "Let's get into the specifics of this project.\n",
    "\n",
    "### The Goal\n",
    "\n",
    "Start by examining the data dictionary for the SQL database we'll be working with, which comes from this [kaggle page](https://www.kaggle.com/laudanum/footballdelphi).  Familiarize yourself with the tables it contains, and what each column means. We'll be using this database to get data on each soccer team, calculate some summary statistics, and then store each in a MongoDB database. \n",
    "\n",
    "Upon completion of this lab, each unique team in this dataset should have a record in the MongoDB instance containing the following information:\n",
    "\n",
    "* The name of the team\n",
    "* The total number of goals scored by the team during the 2011 season\n",
    "* The total number of wins the team earned during the 2011 season\n",
    "* A histogram visualization of the team's wins and losses for the 2011 season (store the visualization directly by assigning it to a variable)\n",
    "* The team's win percentage on days where it was raining during games in the 2011 season. \n",
    "\n",
    "#### Getting the Weather Data\n",
    "\n",
    "Note that for this last calculation, you'll need to figure out if it was raining or not during the game. The database itself does not contain this information, but it does contain the date on which the game was played. For this, you'll need to use the [DarkSky API](https://darksky.net/dev) to get the historical weather data for that day. Note that each game is played in a different location, and this information is not contained in our SQL database. However, the teams in this database are largely german, so go ahead and just use the weather in Berlin, Germany as a proxy for this information. If it was raining in Berlin on the day the game was played, count that as rain game--**_you do not need to try and figure out the actual weather at each game's location, because we don't have that information!_**\n",
    "\n",
    "#### NOTE: The DarkSky API is limited to 1000 free API calls a day, so be sure to test your model on very small samples. Otherwise, you'll hit the rate limit!\n",
    "\n",
    "## Project Architecture\n",
    "\n",
    "Unlike previous labs, this lab is more open-ended, and will require you to make design decisions and plan out your strategy for building a system with this many working parts. However, **_using Object-Oriented Programming is a requirement for this project--you must create at least 2 separate, well-structured classes in your solution!_** Although it may seem easier to \"just start coding\", this is a classic beginner's mistake. Instead, think about separating out the different functionalities you'll need to reach your goal, and then build classes to handle each. For instance, at a minimum, you'll need to:\n",
    "\n",
    "* Query the SQL database\n",
    "* Calculate summary statistics\n",
    "* Get the weather data from the DarkSky API\n",
    "* Load the data into MongoDB\n",
    "\n",
    "We **_strongly recommend_** you consider creating separate classes for handling at least some of these tasks.  Be sure to plan the inputs, outputs, and methods for each class before you begin coding! \n",
    "\n",
    "**_NOTE:_** We have provided some empty classes below. You are welcome to delete them and use a different architecture for this project if you so choose.  You do not have to use each of them, they are just there to give you an idea of what sorts of classes you may want to consider using.\n",
    "\n",
    "### Rapid Prototyping and Refactoring\n",
    "\n",
    "It's totally okay to try to get a task working without using OOP. For instance, when experimenting with the DarkSky API for getting historical weather data, it makes sense to just write the code in the cells and rapidly iterate until you get it all working. However, once you get it working, you're not done--you should then **_Refactor_** your code into functions or classes to make your code more modular, reusable, understandable, and maintainable! \n",
    "\n",
    "In short--do what you need to do to get each separate piece of functionality working, and then refactor it into a class after you've figured it out!\n",
    "\n",
    "### Some Final Advice\n",
    "\n",
    "You haven't built anything this big or complex thus far, so you may not yet fully realize how much trial and error goes into it. If your code keeps breaking, resist the urge to get frustrated, and just keep working. Software development is an iterative process!  No one writes perfect code that works the first time for something this involved. You're going to run into _a lot_ of small errors in this project, right up until the point where it just works, and then you're done! However, you can reduce these errors by planning out your code, and thinking about how all of the pieces fit together before you begin coding. Once you have some basic understanding of how it all will work, then you'll know what you need to build, and then all that is left is to build it!\n",
    "\n",
    "In short:\n",
    "\n",
    "* Plan ahead--you'll thank yourself later!\n",
    "* Errors and broken code aren't bad, they're normal. \n",
    "* Keep working, and stay confident--you can do this!\n",
    "\n",
    "Good luck--we look forward to seeing your completed project!"
   ]
  },
  {
   "cell_type": "code",
   "execution_count": 1,
   "metadata": {},
   "outputs": [],
   "source": [
    "import pandas as pd\n",
    "from myconn import MyConn\n",
    "import json\n",
    "import requests\n",
    "import numpy as np\n",
    "from team import Team\n",
    "import matplotlib.pyplot as plt\n",
    "\n",
    "def get_keys(path):\n",
    "    with open(path) as f:\n",
    "        return json.load(f)"
   ]
  },
  {
   "cell_type": "code",
   "execution_count": 35,
   "metadata": {},
   "outputs": [],
   "source": [
    "# You don't have to use these classes, but we recommend them as a good place to start!\n",
    "keys = get_keys(\"/Users/Flatiron_User/.secret/dark_ski_api.json\")\n",
    "\n",
    "api_key = keys['api_key']\n",
    "\n",
    "\n",
    "def url_(date_string):\n",
    "    year = date_string[:4]\n",
    "    month = date_string[5:7]\n",
    "    day = date_string[8:]\n",
    "    date_string =f\"{year}-{month}-{day}T16:00:00\"\n",
    "    url= f'https://api.darksky.net/forecast/{api_key}/52.5200,13.4050,{date_string}?exclude=currently,flags'\n",
    "    return  f'https://api.darksky.net/forecast/{api_key}/52.5200,13.4050,{date_string}?exclude=currently,flags'\n",
    "\n",
    "def pulling_api(url):\n",
    "    response = requests.get(url)\n",
    "    try:\n",
    "        weather = response.json()['hourly']['icon']\n",
    "    except:\n",
    "        print(response.text)\n",
    "    return weather\n",
    "        \n",
    "    \n"
   ]
  },
  {
   "cell_type": "code",
   "execution_count": 3,
   "metadata": {},
   "outputs": [],
   "source": [
    "class MongoHandler():\n",
    "    pass"
   ]
  },
  {
   "cell_type": "markdown",
   "metadata": {},
   "source": [
    "# Summary\n",
    "\n",
    "In this lab, we dug deep and used everything we've learned so far about python programming, databases, HTTP requests and API calls to ETL data from a SQL database into a MongoDB instance!"
   ]
  },
  {
   "cell_type": "code",
   "execution_count": 4,
   "metadata": {},
   "outputs": [],
   "source": [
    "connection = MyConn('database.sqlite')"
   ]
  },
  {
   "cell_type": "code",
   "execution_count": 36,
   "metadata": {},
   "outputs": [
    {
     "name": "stdout",
     "output_type": "stream",
     "text": [
      "---no tablename in object, exception:---\n",
      "'MyConn' object has no attribute 'table_name'\n"
     ]
    }
   ],
   "source": [
    "match_df = connection.load_table_as_df(table_name= 'Matches')\n",
    "match_df = match_df.loc[match_df.Season == 2011]\n",
    "match_df = match_df[['Date', 'HomeTeam', 'AwayTeam', 'FTHG',\n",
    "       'FTAG', 'FTR']]\n",
    "match_df['pull_url'] = match_df.Date.apply(lambda x: url_(x))\n"
   ]
  },
  {
   "cell_type": "code",
   "execution_count": 39,
   "metadata": {},
   "outputs": [
    {
     "name": "stdout",
     "output_type": "stream",
     "text": [
      "{\"code\":403,\"error\":\"daily usage limit exceeded\"}\n"
     ]
    },
    {
     "ename": "UnboundLocalError",
     "evalue": "local variable 'weather' referenced before assignment",
     "output_type": "error",
     "traceback": [
      "\u001b[1;31m---------------------------------------------------------------------------\u001b[0m",
      "\u001b[1;31mUnboundLocalError\u001b[0m                         Traceback (most recent call last)",
      "\u001b[1;32m<ipython-input-39-532e65d2087d>\u001b[0m in \u001b[0;36m<module>\u001b[1;34m()\u001b[0m\n\u001b[1;32m----> 1\u001b[1;33m \u001b[0mmatch_df\u001b[0m\u001b[1;33m[\u001b[0m\u001b[1;34m'Weather'\u001b[0m\u001b[1;33m]\u001b[0m \u001b[1;33m=\u001b[0m \u001b[0mmatch_df\u001b[0m\u001b[1;33m.\u001b[0m\u001b[0mpull_url\u001b[0m\u001b[1;33m.\u001b[0m\u001b[0mapply\u001b[0m\u001b[1;33m(\u001b[0m\u001b[1;32mlambda\u001b[0m \u001b[0mx\u001b[0m\u001b[1;33m:\u001b[0m \u001b[0mpulling_api\u001b[0m\u001b[1;33m(\u001b[0m\u001b[0mx\u001b[0m\u001b[1;33m)\u001b[0m\u001b[1;33m)\u001b[0m\u001b[1;33m\u001b[0m\u001b[0m\n\u001b[0m",
      "\u001b[1;32m~\\.conda\\envs\\learn-env\\lib\\site-packages\\pandas\\core\\series.py\u001b[0m in \u001b[0;36mapply\u001b[1;34m(self, func, convert_dtype, args, **kwds)\u001b[0m\n\u001b[0;32m   3192\u001b[0m             \u001b[1;32melse\u001b[0m\u001b[1;33m:\u001b[0m\u001b[1;33m\u001b[0m\u001b[0m\n\u001b[0;32m   3193\u001b[0m                 \u001b[0mvalues\u001b[0m \u001b[1;33m=\u001b[0m \u001b[0mself\u001b[0m\u001b[1;33m.\u001b[0m\u001b[0mastype\u001b[0m\u001b[1;33m(\u001b[0m\u001b[0mobject\u001b[0m\u001b[1;33m)\u001b[0m\u001b[1;33m.\u001b[0m\u001b[0mvalues\u001b[0m\u001b[1;33m\u001b[0m\u001b[0m\n\u001b[1;32m-> 3194\u001b[1;33m                 \u001b[0mmapped\u001b[0m \u001b[1;33m=\u001b[0m \u001b[0mlib\u001b[0m\u001b[1;33m.\u001b[0m\u001b[0mmap_infer\u001b[0m\u001b[1;33m(\u001b[0m\u001b[0mvalues\u001b[0m\u001b[1;33m,\u001b[0m \u001b[0mf\u001b[0m\u001b[1;33m,\u001b[0m \u001b[0mconvert\u001b[0m\u001b[1;33m=\u001b[0m\u001b[0mconvert_dtype\u001b[0m\u001b[1;33m)\u001b[0m\u001b[1;33m\u001b[0m\u001b[0m\n\u001b[0m\u001b[0;32m   3195\u001b[0m \u001b[1;33m\u001b[0m\u001b[0m\n\u001b[0;32m   3196\u001b[0m         \u001b[1;32mif\u001b[0m \u001b[0mlen\u001b[0m\u001b[1;33m(\u001b[0m\u001b[0mmapped\u001b[0m\u001b[1;33m)\u001b[0m \u001b[1;32mand\u001b[0m \u001b[0misinstance\u001b[0m\u001b[1;33m(\u001b[0m\u001b[0mmapped\u001b[0m\u001b[1;33m[\u001b[0m\u001b[1;36m0\u001b[0m\u001b[1;33m]\u001b[0m\u001b[1;33m,\u001b[0m \u001b[0mSeries\u001b[0m\u001b[1;33m)\u001b[0m\u001b[1;33m:\u001b[0m\u001b[1;33m\u001b[0m\u001b[0m\n",
      "\u001b[1;32mpandas/_libs/src\\inference.pyx\u001b[0m in \u001b[0;36mpandas._libs.lib.map_infer\u001b[1;34m()\u001b[0m\n",
      "\u001b[1;32m<ipython-input-39-532e65d2087d>\u001b[0m in \u001b[0;36m<lambda>\u001b[1;34m(x)\u001b[0m\n\u001b[1;32m----> 1\u001b[1;33m \u001b[0mmatch_df\u001b[0m\u001b[1;33m[\u001b[0m\u001b[1;34m'Weather'\u001b[0m\u001b[1;33m]\u001b[0m \u001b[1;33m=\u001b[0m \u001b[0mmatch_df\u001b[0m\u001b[1;33m.\u001b[0m\u001b[0mpull_url\u001b[0m\u001b[1;33m.\u001b[0m\u001b[0mapply\u001b[0m\u001b[1;33m(\u001b[0m\u001b[1;32mlambda\u001b[0m \u001b[0mx\u001b[0m\u001b[1;33m:\u001b[0m \u001b[0mpulling_api\u001b[0m\u001b[1;33m(\u001b[0m\u001b[0mx\u001b[0m\u001b[1;33m)\u001b[0m\u001b[1;33m)\u001b[0m\u001b[1;33m\u001b[0m\u001b[0m\n\u001b[0m",
      "\u001b[1;32m<ipython-input-35-d050cfada5ba>\u001b[0m in \u001b[0;36mpulling_api\u001b[1;34m(url)\u001b[0m\n\u001b[0;32m     19\u001b[0m     \u001b[1;32mexcept\u001b[0m\u001b[1;33m:\u001b[0m\u001b[1;33m\u001b[0m\u001b[0m\n\u001b[0;32m     20\u001b[0m         \u001b[0mprint\u001b[0m\u001b[1;33m(\u001b[0m\u001b[0mresponse\u001b[0m\u001b[1;33m.\u001b[0m\u001b[0mtext\u001b[0m\u001b[1;33m)\u001b[0m\u001b[1;33m\u001b[0m\u001b[0m\n\u001b[1;32m---> 21\u001b[1;33m     \u001b[1;32mreturn\u001b[0m \u001b[0mweather\u001b[0m\u001b[1;33m\u001b[0m\u001b[0m\n\u001b[0m\u001b[0;32m     22\u001b[0m \u001b[1;33m\u001b[0m\u001b[0m\n\u001b[0;32m     23\u001b[0m \u001b[1;33m\u001b[0m\u001b[0m\n",
      "\u001b[1;31mUnboundLocalError\u001b[0m: local variable 'weather' referenced before assignment"
     ]
    }
   ],
   "source": [
    "match_df['Weather'] = match_df.pull_url.apply(lambda x: pulling_api(x))"
   ]
  },
  {
   "cell_type": "code",
   "execution_count": 6,
   "metadata": {
    "scrolled": true
   },
   "outputs": [
    {
     "data": {
      "text/plain": [
       "array(['A', 'H', 'D'], dtype=object)"
      ]
     },
     "execution_count": 6,
     "metadata": {},
     "output_type": "execute_result"
    }
   ],
   "source": [
    "match_df.HomeTeam = match_df.HomeTeam.replace(to_replace=  'F Koln', value=  'FC Koln')\n",
    "match_df.HomeTeam = match_df.HomeTeam.replace(to_replace=   \"M'gladbach\", value=  \"M'Gladbach\")\n",
    "match_df.AwayTeam = match_df.AwayTeam.replace(to_replace=  'F Koln', value=  'FC Koln')\n",
    "match_df.AwayTeam = match_df.AwayTeam.replace(to_replace=   \"M'gladbach\", value=  \"M'Gladbach\")\n",
    "match_df.FTR.unique()"
   ]
  },
  {
   "cell_type": "markdown",
   "metadata": {},
   "source": [
    "#### FTR Results \n",
    "H- Home team wins.\n",
    "\n",
    "A- Away team wins.\n",
    "\n",
    "D- Tied"
   ]
  },
  {
   "cell_type": "markdown",
   "metadata": {},
   "source": [
    "#### Bring in  DarkSky API"
   ]
  },
  {
   "cell_type": "code",
   "execution_count": 7,
   "metadata": {},
   "outputs": [],
   "source": [
    "keys = get_keys(\"/Users/Flatiron_User/.secret/dark_ski_api.json\")\n",
    "\n",
    "api_key = keys['api_key']"
   ]
  },
  {
   "cell_type": "code",
   "execution_count": 8,
   "metadata": {},
   "outputs": [],
   "source": [
    "team_names = match_df.HomeTeam\n",
    "team_names.append(match_df.AwayTeam)\n",
    "\n",
    "list_of_Teams = [Team(name) for name in team_names.unique()]\n"
   ]
  },
  {
   "cell_type": "code",
   "execution_count": 9,
   "metadata": {},
   "outputs": [],
   "source": [
    "for i in list_of_Teams:\n",
    "    a = match_df.loc[(match_df.HomeTeam == i.name) |\n",
    "                     (match_df.AwayTeam == i.name)]\n",
    "    a = a.to_dict(orient='record')\n",
    "    histogram_list = []\n",
    "    for match_row in a:\n",
    "        win = i.home_goal_win(match_row)\n",
    "        if win:\n",
    "            histogram_list.append(win)\n",
    "           \n",
    "        win = i.away_goal_win(match_row)\n",
    "        if win:\n",
    "            histogram_list.append(win)\n",
    "        i.weather(match_row)\n",
    "    i.histogram_data(histogram_list)\n",
    "            \n",
    "            \n",
    "            \n",
    "   \n",
    "            \n",
    "   "
   ]
  },
  {
   "cell_type": "code",
   "execution_count": 10,
   "metadata": {},
   "outputs": [
    {
     "name": "stdout",
     "output_type": "stream",
     "text": [
      "Nurnberg 38 12\n",
      "Stuttgart 63 15\n",
      "Wolfsburg 47 13\n",
      "Mainz 47 9\n",
      "Freiburg 45 10\n",
      "M'Gladbach 49 17\n",
      "Hamburg 35 8\n",
      "Werder Bremen 49 11\n",
      "Schalke 04 74 20\n",
      "Hannover 41 12\n",
      "Hoffenheim 41 10\n",
      "Leverkusen 52 15\n",
      "Kaiserslautern 24 4\n",
      "Hertha 38 7\n",
      "Augsburg 36 8\n",
      "FC Koln 39 8\n",
      "Dortmund 80 25\n",
      "Bayern Munich 77 23\n",
      "Hansa Rostock 34 5\n",
      "Bochum 41 10\n",
      "Ein Frankfurt 76 20\n",
      "Paderborn 51 17\n",
      "Greuther Furth 73 20\n",
      "Fortuna Dusseldorf 64 16\n",
      "Ingolstadt 43 8\n",
      "Cottbus 30 8\n",
      "St Pauli 59 18\n",
      "Frankfurt FSV 43 7\n",
      "Union Berlin 55 14\n",
      "Munich 1860 62 17\n",
      "Aachen 30 6\n",
      "Karlsruhe 34 9\n",
      "Braunschweig 37 10\n",
      "Erzgebirge Aue 31 8\n",
      "Duisburg 42 10\n",
      "Dresden 50 12\n",
      "Blackburn 48 8\n",
      "Fulham 48 14\n",
      "Liverpool 47 14\n",
      "Newcastle 56 19\n",
      "QPR 43 10\n",
      "Wigan 42 11\n",
      "Stoke 36 11\n",
      "West Brom 45 13\n",
      "Man City 93 28\n",
      "Arsenal 74 21\n",
      "Aston Villa 37 7\n",
      "Chelsea 65 18\n",
      "Everton 50 15\n",
      "Sunderland 45 11\n",
      "Swansea 44 12\n",
      "Bolton 46 10\n",
      "Norwich 52 12\n",
      "Wolves 40 5\n",
      "Man United 89 28\n",
      "Tottenham 66 20\n"
     ]
    },
    {
     "data": {
      "image/png": "[encoded data removed]",
      "text/plain": [
       "<Figure size 432x288 with 1 Axes>"
      ]
     },
     "metadata": {
      "needs_background": "light"
     },
     "output_type": "display_data"
    }
   ],
   "source": [
    "for i in list_of_Teams:\n",
    "    print(i.name, i.goals, i.wins)\n",
    "    "
   ]
  },
  {
   "cell_type": "code",
   "execution_count": 13,
   "metadata": {
    "scrolled": true
   },
   "outputs": [
    {
     "data": {
      "image/png": "[encoded data removed]",
      "text/plain": [
       "<Figure size 216x144 with 1 Axes>"
      ]
     },
     "metadata": {
      "needs_background": "light"
     },
     "output_type": "display_data"
    }
   ],
   "source": [
    "ax = plt.figure(figsize= (3,2))\n",
    "ax = plt.hist(list_of_Teams[10].histogram_results);\n",
    "ax = plt.title(f\"{list_of_Teams[10].name} Result\")\n",
    "ax = plt.ylabel('Count')\n"
   ]
  },
  {
   "cell_type": "code",
   "execution_count": null,
   "metadata": {},
   "outputs": [],
   "source": [
    "\n",
    "a = match_df.loc[(match_df.HomeTeam == i.name) |\n",
    "                     (match_df.AwayTeam == i.name)]\n",
    "\n",
    "self.weather(match_row, win)"
   ]
  },
  {
   "cell_type": "code",
   "execution_count": null,
   "metadata": {},
   "outputs": [],
   "source": [
    " if response.json()['hourly']['icon'] == 'rain':\n",
    "            result = 1\n",
    "            self.rain_games += 1\n",
    "            if win_output == 'Win':\n",
    "                self.rain_wins += 1\n",
    "        self.rain_percent = self.rain_wins/self.rain_games\n"
   ]
  },
  {
   "cell_type": "code",
   "execution_count": null,
   "metadata": {},
   "outputs": [],
   "source": []
  }
 ],
 "metadata": {
  "kernelspec": {
   "display_name": "Python 3",
   "language": "python",
   "name": "python3"
  },
  "language_info": {
   "codemirror_mode": {
    "name": "ipython",
    "version": 3
   },
   "file_extension": ".py",
   "mimetype": "text/x-python",
   "name": "python",
   "nbconvert_exporter": "python",
   "pygments_lexer": "ipython3",
   "version": "3.6.6"
  }
 },
 "nbformat": 4,
 "nbformat_minor": 2
}
